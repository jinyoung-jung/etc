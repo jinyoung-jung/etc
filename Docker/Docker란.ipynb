{
 "cells": [
  {
   "cell_type": "markdown",
   "metadata": {},
   "source": [
    "# 1.Docker란"
   ]
  },
  {
   "cell_type": "markdown",
   "metadata": {},
   "source": [
    "- 가상화 플랫폼을 지원하는 도구 <br>\n",
    "가상화 지원 도구 종류: 가상 머신, docker\n",
    "- 가상 머신\n",
    "    - 본체와 격리된 환경을 제공함으로서 개발과 테스트를 비롯해 다양한 목적으로 활용\n",
    "    - 일반적으로 성능 손실을 비롯한 많은 단점이 있음\n",
    "- Docker\n",
    "    - 프로세스 격리에 기반한 가상화 방법\n",
    "    - 어느 플랫폼에서나 이전의 상태를 그대로 재현가능한 애플리케이션 컨테이너를 운용하는 것을 목표\n",
    "    - 기본적으로 리눅스 환경에서 개발된 도구\n",
    "    - 이미지와 컨테이너라는 개념이 있음"
   ]
  },
  {
   "cell_type": "markdown",
   "metadata": {},
   "source": [
    "![image](images/docker란1.PNG)"
   ]
  },
  {
   "cell_type": "markdown",
   "metadata": {},
   "source": [
    "위 이미지 :: VM vs docker"
   ]
  },
  {
   "cell_type": "markdown",
   "metadata": {},
   "source": [
    "- [참고 사이트1](https://www.44bits.io/ko/post/easy-deploy-with-docker)\n",
    "- [참고 사이트2](https://blog.ggaman.com/997)\n",
    "- [참고 사이트3**](https://subicura.com/2017/01/19/docker-guide-for-beginners-1.html)"
   ]
  },
  {
   "cell_type": "markdown",
   "metadata": {},
   "source": [
    "# 2.도커 이미지와 컨테이너"
   ]
  },
  {
   "cell_type": "markdown",
   "metadata": {},
   "source": [
    "![image](images/docker란2.PNG)"
   ]
  },
  {
   "cell_type": "markdown",
   "metadata": {},
   "source": [
    "- 이미지 : 컨테이너 실행에 필요한 파일과 설정값등을 포함하고 있는 것\n",
    "    - 컨테이너를 실행하기 위한 모든 정보를 가지고 있음\n",
    "- 컨테이너 : 이미지를 실행한 상태라고 볼 수 있고 추가되거나 변하는 값은 컨테이너에 저장"
   ]
  },
  {
   "cell_type": "code",
   "execution_count": null,
   "metadata": {},
   "outputs": [],
   "source": []
  },
  {
   "cell_type": "code",
   "execution_count": null,
   "metadata": {},
   "outputs": [],
   "source": []
  },
  {
   "cell_type": "code",
   "execution_count": null,
   "metadata": {},
   "outputs": [],
   "source": []
  },
  {
   "cell_type": "code",
   "execution_count": null,
   "metadata": {},
   "outputs": [],
   "source": []
  },
  {
   "cell_type": "code",
   "execution_count": null,
   "metadata": {},
   "outputs": [],
   "source": []
  },
  {
   "cell_type": "markdown",
   "metadata": {},
   "source": [
    "# .설치"
   ]
  },
  {
   "cell_type": "markdown",
   "metadata": {},
   "source": [
    "- [윈도우에 설치하기](https://steemit.com/kr/@mystarlight/docker)"
   ]
  },
  {
   "cell_type": "markdown",
   "metadata": {},
   "source": []
  }
 ],
 "metadata": {
  "kernelspec": {
   "display_name": "Python 3",
   "language": "python",
   "name": "python3"
  },
  "language_info": {
   "codemirror_mode": {
    "name": "ipython",
    "version": 3
   },
   "file_extension": ".py",
   "mimetype": "text/x-python",
   "name": "python",
   "nbconvert_exporter": "python",
   "pygments_lexer": "ipython3",
   "version": "3.7.4"
  }
 },
 "nbformat": 4,
 "nbformat_minor": 2
}
